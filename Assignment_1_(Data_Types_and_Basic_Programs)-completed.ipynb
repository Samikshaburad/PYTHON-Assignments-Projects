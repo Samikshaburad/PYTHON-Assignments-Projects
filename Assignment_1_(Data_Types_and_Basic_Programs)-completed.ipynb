{
 "cells": [
  {
   "cell_type": "markdown",
   "id": "9cacd9e4",
   "metadata": {
    "id": "9cacd9e4"
   },
   "source": [
    "# Data Types & Basic Programs\n",
    "- Write solution of each question in the cell given below the corresponsing question."
   ]
  },
  {
   "cell_type": "markdown",
   "id": "a36a3683",
   "metadata": {
    "id": "a36a3683"
   },
   "source": [
    "#### 1. Write a program to take principal amount, rate and interest as input and calculate simple interest."
   ]
  },
  {
   "cell_type": "code",
   "execution_count": 3,
   "id": "iyGa2yN7bkZL",
   "metadata": {
    "colab": {
     "base_uri": "https://localhost:8080/",
     "height": 130
    },
    "id": "iyGa2yN7bkZL",
    "outputId": "43c86045-073b-48a6-b7fb-8895e19b4b9c"
   },
   "outputs": [
    {
     "name": "stdout",
     "output_type": "stream",
     "text": [
      "Simple Interest =  1000.0\n"
     ]
    }
   ],
   "source": [
    "\n",
    "p=int(input(\"Enter Principle Rate\"))\n",
    "r=float(input(\"Enter Rate\"))\n",
    "t=int(input(\"Enter Time Period\"))\n",
    "\n",
    "SI = (p*r*t)/100\n",
    "print(\"Simple Interest = \",SI)"
   ]
  },
  {
   "cell_type": "markdown",
   "id": "3a9994e0",
   "metadata": {
    "id": "3a9994e0"
   },
   "source": [
    "#### 2. Write a program that takes a string as input and prints the number of words in the string."
   ]
  },
  {
   "cell_type": "code",
   "execution_count": 9,
   "id": "9VbTZFFQfHCm",
   "metadata": {
    "id": "9VbTZFFQfHCm"
   },
   "outputs": [
    {
     "name": "stdout",
     "output_type": "stream",
     "text": [
      "Hello All, I am Samieksha Burad\n",
      "Number of Words in Text : 6\n"
     ]
    }
   ],
   "source": [
    "text = input(\"Enter Text\")\n",
    "print(text)\n",
    "words = text.split()\n",
    "words_count = len(words)\n",
    "print(\"Number of Words in Text :\", words_count)"
   ]
  },
  {
   "cell_type": "markdown",
   "id": "8a8d5e27",
   "metadata": {
    "id": "8a8d5e27"
   },
   "source": [
    "#### 3. Write a program to take a list of numbers as input (in a single line) and print the sum, avg, max and min elements."
   ]
  },
  {
   "cell_type": "code",
   "execution_count": 17,
   "id": "OUlGO6fiVlU7",
   "metadata": {
    "id": "OUlGO6fiVlU7"
   },
   "outputs": [
    {
     "name": "stdout",
     "output_type": "stream",
     "text": [
      "[34, 87, 54, 67, 12, 45, 89, 91]\n",
      "Sum of Numbers : 479\n",
      "Average of Numbers : 59.875\n",
      "Max of Numbers : 91\n",
      "Min of Numbers : 12\n"
     ]
    }
   ],
   "source": [
    "num = list(map(int, input(\"Enter List Of Numbers\").split()))\n",
    "print(num)\n",
    "s=sum(num)\n",
    "a=sum(num)/len(num)\n",
    "maximum = max(num)\n",
    "minimum = min(num)\n",
    "print(\"Sum of Numbers :\", s)\n",
    "print(\"Average of Numbers :\", a)\n",
    "print(\"Max of Numbers :\", maximum)\n",
    "print(\"Min of Numbers :\", minimum)"
   ]
  },
  {
   "cell_type": "markdown",
   "id": "17dbd6e8",
   "metadata": {
    "id": "17dbd6e8"
   },
   "source": [
    "#### 4. Write a program to take the marks of 3 students in five subjects each as a list (one list for each input) as input and print the average score of each student.."
   ]
  },
  {
   "cell_type": "code",
   "execution_count": 20,
   "id": "BTd2sM7i9sui",
   "metadata": {
    "id": "BTd2sM7i9sui"
   },
   "outputs": [
    {
     "name": "stdout",
     "output_type": "stream",
     "text": [
      "Average_Score_s1 = 87.8\n",
      "Average_Score_2 = 85.6\n",
      "Average_Score_s3 = 81.0\n"
     ]
    }
   ],
   "source": [
    "s1 = list(map(int, input(\"Enter Marks of Student1\").split()))\n",
    "s2 = list(map(int, input(\"Enter Marks of Student2\").split()))\n",
    "s3 = list(map(int, input(\"Enter Marks of Student3\").split()))\n",
    "\n",
    "print(\"Average_Score_s1 =\" ,sum(s1)/len(s1))\n",
    "print(\"Average_Score_2 =\" ,sum(s2)/len(s2))\n",
    "print(\"Average_Score_s3 =\" ,sum(s3)/len(s3))\n",
    "\n",
    "\n",
    "\n"
   ]
  },
  {
   "cell_type": "markdown",
   "id": "39fb8526",
   "metadata": {
    "id": "39fb8526"
   },
   "source": [
    "#### 5. Write a program to take a list as input containing results of 10 coin tosses as 'H' or 'T'. Jon gets a point for each 'T' and Tom gets a point for each 'H'. print the points recieved by both."
   ]
  },
  {
   "cell_type": "code",
   "execution_count": 22,
   "id": "Ijvfc63fHr8B",
   "metadata": {
    "id": "Ijvfc63fHr8B"
   },
   "outputs": [
    {
     "name": "stdout",
     "output_type": "stream",
     "text": [
      "['H', 'H', 'T', 'H', 'T', 'T', 'T', 'H', 'T', 'H']\n",
      "Jon's Points: 5\n",
      "Tom's Points: 5\n"
     ]
    }
   ],
   "source": [
    "tosses=input(\"Enter 10 coin toss result Head/Tail\").split()\n",
    "Jons_points=tosses.count('T')\n",
    "Toms_points=tosses.count('H')\n",
    "\n",
    "print(tosses)\n",
    "print(\"Jon's Points:\", Jons_points)\n",
    "print(\"Tom's Points:\", Toms_points)\n"
   ]
  },
  {
   "cell_type": "markdown",
   "id": "4a6dc391",
   "metadata": {
    "id": "4a6dc391"
   },
   "source": [
    "#### 6. Take two numbers as input and print the result after swapping them. (Without using multiple assignment and any extra variable)."
   ]
  },
  {
   "cell_type": "code",
   "execution_count": 28,
   "id": "oiSoXznqZbC_",
   "metadata": {
    "id": "oiSoXznqZbC_"
   },
   "outputs": [
    {
     "name": "stdout",
     "output_type": "stream",
     "text": [
      "First Number : 10\n",
      "Second Number : 20\n",
      "After Swapping :\n",
      "First Number : 20\n",
      "Second Number : 10\n"
     ]
    }
   ],
   "source": [
    "num1=int(input(\"Enter First Number\"))\n",
    "num2=int(input(\"Enter Second Number\"))\n",
    "\n",
    "print(\"First Number :\", num1)\n",
    "print(\"Second Number :\", num2)\n",
    "\n",
    "num1=num1+num2\n",
    "num2=num1-num2\n",
    "num1=num1-num2\n",
    "\n",
    "print(\"After Swapping :\")\n",
    "print(\"First Number :\", num1)\n",
    "print(\"Second Number :\", num2)"
   ]
  },
  {
   "cell_type": "markdown",
   "id": "b0059e36",
   "metadata": {
    "id": "b0059e36"
   },
   "source": [
    "#### 7. Take a list as input in a single line containing 10 numbers as marks out of 100. The even positions in the list are marks of Tom and the odd positions are the marks of Jon. Calculate the average marks of both."
   ]
  },
  {
   "cell_type": "code",
   "execution_count": null,
   "id": "dzK-bSIM6rh6",
   "metadata": {
    "id": "dzK-bSIM6rh6"
   },
   "outputs": [
    {
     "name": "stdout",
     "output_type": "stream",
     "text": [
      "[85, 61, 84, 89, 94, 86, 92, 95, 86, 79]\n",
      "Tom's Marks : [84, 94, 86, 92, 86]\n",
      "Jon's Marks : [85, 61, 89, 95, 79]\n",
      "Average of Tom's Marks : 88.4\n",
      "Average of Jon's Marks : 81.8\n"
     ]
    }
   ],
   "source": [
    "marks=list(map(int, input(\"Enter marks \").split()))\n",
    "print(marks)\n",
    "\n",
    "toms_marks=[m for m in marks if m % 2 == 0]\n",
    "jons_marks=[m for m in marks if m % 2 != 0]\n",
    "\n",
    "print(\"Tom's Marks :\", toms_marks)\n",
    "print(\"Jon's Marks :\", jons_marks)\n",
    "\n",
    "\n",
    "print(\"Average of Tom's Marks :\", sum(toms_marks)/len(toms_marks))\n",
    "print(\"Average of Jon's Marks :\", sum(jons_marks)/len(jons_marks))\n",
    "\n",
    "\n"
   ]
  },
  {
   "cell_type": "markdown",
   "id": "f07dab7c",
   "metadata": {
    "id": "f07dab7c"
   },
   "source": [
    "#### 8. Take a string and a character as input. Print the result having the character between each word of the given string."
   ]
  },
  {
   "cell_type": "code",
   "execution_count": 36,
   "id": "Bak8JEWdAAFv",
   "metadata": {
    "id": "Bak8JEWdAAFv"
   },
   "outputs": [
    {
     "name": "stdout",
     "output_type": "stream",
     "text": [
      "Result : Hi!*All,!*My!*Name!*Is!*Samieksha\n"
     ]
    }
   ],
   "source": [
    "\n",
    "Str = input(\"Enter String\")\n",
    "Character = input(\"Enter a Character\")\n",
    "\n",
    "Result = Character.join(Str.split())\n",
    "\n",
    "print(\"Result :\", Result)"
   ]
  },
  {
   "cell_type": "markdown",
   "id": "a45320b7",
   "metadata": {
    "id": "a45320b7"
   },
   "source": [
    "#### 9. Create a dictionary having three items. Key of each item is the name of a student, value associated with each key is a list of marks in five subjects. Given this dictionary print the average score of each student."
   ]
  },
  {
   "cell_type": "code",
   "execution_count": 40,
   "id": "_WpSWzXdLyri",
   "metadata": {
    "id": "_WpSWzXdLyri"
   },
   "outputs": [
    {
     "name": "stdout",
     "output_type": "stream",
     "text": [
      "Average of Anna's Score : 79.6\n",
      "Average of Eva's Score : 81.2\n",
      "Average of John's Score : 84.0\n"
     ]
    }
   ],
   "source": [
    "stu = {\n",
    "    'Anna' : [78, 98, 83, 72, 67],\n",
    "    'Eva' : [91, 83, 79, 84,69],\n",
    "    'John' : [89, 67, 76, 98, 90]\n",
    "}\n",
    "\n",
    "stu\n",
    "\n",
    "print(\"Average of Anna's Score :\", sum(stu['Anna'])/len(stu['Anna']))\n",
    "print(\"Average of Eva's Score :\", sum(stu['Eva'])/len(stu['Eva']))\n",
    "print(\"Average of John's Score :\", sum(stu['John'])/len(stu['John']))"
   ]
  },
  {
   "cell_type": "markdown",
   "id": "aba63bd1",
   "metadata": {
    "id": "aba63bd1"
   },
   "source": [
    "#### 10. Take a string as input(may contain repetitive words), print a list consisting of unique words from the given string."
   ]
  },
  {
   "cell_type": "code",
   "execution_count": 45,
   "id": "Wrc5hOBIF-ww",
   "metadata": {
    "id": "Wrc5hOBIF-ww"
   },
   "outputs": [
    {
     "name": "stdout",
     "output_type": "stream",
     "text": [
      "Hello Python World Hello Welcome To Python World\n",
      "{'Welcome', 'World', 'Hello', 'Python', 'To'}\n"
     ]
    }
   ],
   "source": [
    "str1=input(\"Enter a strin\")\n",
    "print(str1)\n",
    "strin= str1.split()\n",
    "unique = str(set(strin))\n",
    "print(unique)"
   ]
  }
 ],
 "metadata": {
  "colab": {
   "provenance": []
  },
  "kernelspec": {
   "display_name": "Python 3",
   "language": "python",
   "name": "python3"
  },
  "language_info": {
   "codemirror_mode": {
    "name": "ipython",
    "version": 3
   },
   "file_extension": ".py",
   "mimetype": "text/x-python",
   "name": "python",
   "nbconvert_exporter": "python",
   "pygments_lexer": "ipython3",
   "version": "3.11.9"
  }
 },
 "nbformat": 4,
 "nbformat_minor": 5
}
