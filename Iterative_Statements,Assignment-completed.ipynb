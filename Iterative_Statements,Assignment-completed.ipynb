{
  "cells": [
    {
      "cell_type": "markdown",
      "id": "b462dadb",
      "metadata": {
        "id": "b462dadb"
      },
      "source": [
        "# Iterative Statements\n",
        "- Write solution of each question in the cell given below the corresponsing question."
      ]
    },
    {
      "cell_type": "markdown",
      "id": "f5aefe41",
      "metadata": {
        "id": "f5aefe41"
      },
      "source": [
        "#### 1. Tom and Bob are playing a game of dice. Each time a multiple of two comes up Tom gets a point and if a multiple of 3 comes up bob gets a point. If a multiple of both comes up then a point is deducted from both. Write a program to take a list as input consisting of 10 outcomes of the dice throw. Print the scores of both Tom and bob and the winner."
      ]
    },
    {
      "cell_type": "code",
      "execution_count": 10,
      "id": "WzFaY9Pk53Pl",
      "metadata": {
        "id": "WzFaY9Pk53Pl"
      },
      "outputs": [
        {
          "name": "stdout",
          "output_type": "stream",
          "text": [
            "Tom's Score : 3\n",
            "Bob's Score : 0\n",
            "Winner is Tom\n"
          ]
        }
      ],
      "source": [
        "dice_throw = list(map(int, input(\"Enter 10 dice numbers: \").split()))\n",
        "\n",
        "def dice_game(outcomes):\n",
        "    tom_score = 0\n",
        "    bob_score = 0\n",
        "\n",
        "    for i in outcomes:\n",
        "        if i % 2 == 0 and i % 3 == 0:\n",
        "            tom_score -= 1\n",
        "            bob_score -= 1\n",
        "        elif i % 2 == 0:\n",
        "            tom_score += 1\n",
        "        elif i % 3 == 0:\n",
        "            bob_score += 1\n",
        "\n",
        "    print(\"Tom's Score :\", tom_score)\n",
        "    print(\"Bob's Score :\", bob_score)\n",
        "\n",
        "    if tom_score > bob_score:\n",
        "        print(\"Winner is Tom\")\n",
        "    elif bob_score > tom_score:\n",
        "        print(\"Winner is Bob\")\n",
        "    else:\n",
        "        print(\"It's a Tie\")\n",
        "\n",
        "\n",
        "dice_game(dice_throw)\n"
      ]
    },
    {
      "cell_type": "markdown",
      "id": "57ec6a53",
      "metadata": {
        "id": "57ec6a53"
      },
      "source": [
        "##### 2. Write a program to take a list of 10 numbers as input in single line and find out the largest element."
      ]
    },
    {
      "cell_type": "code",
      "execution_count": 12,
      "id": "scLsG4fkSyUu",
      "metadata": {
        "id": "scLsG4fkSyUu"
      },
      "outputs": [
        {
          "name": "stdout",
          "output_type": "stream",
          "text": [
            "[12, 45, 67, 89, 56, 88, 90, 53, 71, 19]\n",
            "Largest Element :  90\n"
          ]
        }
      ],
      "source": [
        "num = list(map(int, input(\"Enter 10 numbers:\").split()))\n",
        "print(num)\n",
        "\n",
        "print(\"Largest Element : \", max(num))"
      ]
    },
    {
      "cell_type": "markdown",
      "id": "ee2cce37",
      "metadata": {
        "id": "ee2cce37"
      },
      "source": [
        "#### 3. Write a program to take a number as input and find out whether it is prime or not."
      ]
    },
    {
      "cell_type": "code",
      "execution_count": null,
      "id": "td2eirqTZCiE",
      "metadata": {
        "id": "td2eirqTZCiE"
      },
      "outputs": [
        {
          "name": "stdout",
          "output_type": "stream",
          "text": [
            "3\n",
            "It is  a Prime Number\n"
          ]
        }
      ],
      "source": [
        "primenum = int(input(\"Enter Number\"))\n",
        "\n",
        "print(primenum)\n",
        "\n",
        "if primenum > 1 :\n",
        "    for i in range(2, primenum):\n",
        "        if primenum % i == 0:\n",
        "            print (\"It is not a Prime Number\")\n",
        "            break\n",
        "    else :\n",
        "        print(\"It is a Prime Number\")\n",
        "else :\n",
        "    print(\"It is not a Prime Number\")"
      ]
    },
    {
      "cell_type": "markdown",
      "id": "07d5a484",
      "metadata": {
        "id": "07d5a484"
      },
      "source": [
        "#### 4. Take a list and a number as input, print all consecutive pairs of two numbers from the list having sum equal to the given number."
      ]
    },
    {
      "cell_type": "code",
      "execution_count": null,
      "id": "e3acd75f",
      "metadata": {
        "id": "e3acd75f"
      },
      "outputs": [
        {
          "name": "stdout",
          "output_type": "stream",
          "text": [
            "Pair found: (2, 4)\n"
          ]
        }
      ],
      "source": [
        "\n",
        "nums = list(map(int, input(\"Enter list elements separated by space: \").split()))\n",
        "\n",
        "target = int(input(\"Enter the target sum: \"))\n",
        "\n",
        "found = False\n",
        "for i in range(len(nums) - 1):\n",
        "    if nums[i] + nums[i+1] == target:\n",
        "        print(f\"Pair found: ({nums[i]}, {nums[i+1]})\")\n",
        "        found = True\n",
        "\n",
        "if not found:\n",
        "    print(\"No consecutive pairs found with the given sum.\")\n"
      ]
    },
    {
      "cell_type": "markdown",
      "id": "d2bc68d1",
      "metadata": {
        "id": "d2bc68d1"
      },
      "source": [
        "#### 5. Take a string as input and find out the number of words with even length and number of words with odd length."
      ]
    },
    {
      "cell_type": "code",
      "execution_count": 39,
      "id": "P1HffxgLZk6C",
      "metadata": {
        "id": "P1HffxgLZk6C"
      },
      "outputs": [
        {
          "name": "stdout",
          "output_type": "stream",
          "text": [
            "This is a Jupyter Notebook\n",
            "Number of words with even length: 3\n",
            "Number of words with odd length: 2\n"
          ]
        }
      ],
      "source": [
        "\n",
        "text = input(\"Enter a string: \")\n",
        "\n",
        "print(text)\n",
        "\n",
        "words = text.split()\n",
        "\n",
        "even_count = 0\n",
        "odd_count = 0\n",
        "\n",
        "for word in words:\n",
        "    if len(word) % 2 == 0:\n",
        "        even_count += 1\n",
        "    else:\n",
        "        odd_count += 1\n",
        "\n",
        "print(\"Number of words with even length:\", even_count)\n",
        "print(\"Number of words with odd length:\", odd_count)\n"
      ]
    },
    {
      "cell_type": "markdown",
      "id": "41da36a0",
      "metadata": {
        "id": "41da36a0"
      },
      "source": []
    },
    {
      "cell_type": "markdown",
      "id": "9bc04f36",
      "metadata": {
        "id": "9bc04f36"
      },
      "source": [
        "#### 6. Write a program to sort a given list using selection sort algorithm. (study selection sort and implement)"
      ]
    },
    {
      "cell_type": "code",
      "execution_count": 40,
      "id": "3abb8c1e",
      "metadata": {
        "id": "3abb8c1e"
      },
      "outputs": [
        {
          "name": "stdout",
          "output_type": "stream",
          "text": [
            "[56, 34, 87, 12, 67, 98, 23]\n",
            "Sorted list: [12, 23, 34, 56, 67, 87, 98]\n"
          ]
        }
      ],
      "source": [
        "numbers = list(map(int, input(\"Enter numbers separated by space: \").split()))\n",
        "\n",
        "print(numbers)\n",
        "\n",
        "def selection_sort(arr):\n",
        "\n",
        "    for i in range(len(arr)):\n",
        "        min_index = i\n",
        "        for j in range(i+1, len(arr)):\n",
        "            if arr[j] < arr[min_index]:\n",
        "                min_index = j\n",
        "        \n",
        "        \n",
        "        arr[i], arr[min_index] = arr[min_index], arr[i]\n",
        "\n",
        "selection_sort(numbers)\n",
        "print(\"Sorted list:\", numbers)\n"
      ]
    },
    {
      "cell_type": "markdown",
      "id": "d2cf1bab",
      "metadata": {
        "id": "d2cf1bab"
      },
      "source": [
        "#### 7. Write a program to sort a given list using bubble sort algorithm. (Study bubble sort and implement)"
      ]
    },
    {
      "cell_type": "code",
      "execution_count": 41,
      "id": "OJAUtZLmyvMk",
      "metadata": {
        "id": "OJAUtZLmyvMk"
      },
      "outputs": [
        {
          "name": "stdout",
          "output_type": "stream",
          "text": [
            "[67, 45, 23, 12, 11, 67, 98, 56]\n",
            "Sorted list: [11, 12, 23, 45, 56, 67, 67, 98]\n"
          ]
        }
      ],
      "source": [
        "numbers = list(map(int, input(\"Enter numbers separated by space: \").split()))\n",
        "\n",
        "print(numbers)\n",
        "\n",
        "def bubble_sort(arr):\n",
        "    n = len(arr)\n",
        "    \n",
        "    for i in range(n):\n",
        "        for j in range(0, n - i - 1):\n",
        "            if arr[j] > arr[j + 1]:\n",
        "                arr[j], arr[j + 1] = arr[j + 1], arr[j]\n",
        "\n",
        "\n",
        "bubble_sort(numbers)\n",
        "print(\"Sorted list:\", numbers)\n"
      ]
    },
    {
      "cell_type": "markdown",
      "id": "1910df79",
      "metadata": {
        "id": "1910df79"
      },
      "source": [
        "#### 8. Take a string and a word and input. Find the frequenecy of occurrence of the word in the given string. (Without using any inbuilt function)"
      ]
    },
    {
      "cell_type": "code",
      "execution_count": 43,
      "id": "c50d4a3c",
      "metadata": {
        "id": "c50d4a3c"
      },
      "outputs": [
        {
          "name": "stdout",
          "output_type": "stream",
          "text": [
            "hello all hello this is python notebook\n",
            "hello\n",
            "The word 'hello' occurs 2 time(s) in the given string.\n"
          ]
        }
      ],
      "source": [
        "text = input(\"Enter a string: \")\n",
        "word = input(\"Enter the word to find: \")\n",
        "\n",
        "print(text)\n",
        "print(word)\n",
        "\n",
        "\n",
        "def word_frequency(text, word):\n",
        "    current_word = \"\"\n",
        "    count = 0\n",
        "\n",
        "    for char in text + \" \":  \n",
        "        if char != \" \":\n",
        "            current_word += char\n",
        "        else:\n",
        "            if current_word == word:\n",
        "                count += 1\n",
        "            current_word = \"\"\n",
        "\n",
        "    return count\n",
        "\n",
        "freq = word_frequency(text, word)\n",
        "print(f\"The word '{word}' occurs {freq} time(s) in the given string.\")\n",
        "\n",
        "\n"
      ]
    },
    {
      "cell_type": "markdown",
      "id": "b05f15de",
      "metadata": {
        "id": "b05f15de"
      },
      "source": [
        "#### 9. Write a program to print the following pattern:"
      ]
    },
    {
      "cell_type": "code",
      "execution_count": null,
      "id": "5113af76",
      "metadata": {
        "colab": {
          "base_uri": "https://localhost:8080/"
        },
        "id": "5113af76",
        "outputId": "c86dd0d3-1a32-4fef-818e-852f636f919a"
      },
      "outputs": [
        {
          "name": "stdout",
          "output_type": "stream",
          "text": [
            "\n"
          ]
        }
      ],
      "source": [
        "'''\n",
        "5 4 3 2 1\n",
        "  4 3 2 1\n",
        "    3 2 1\n",
        "      2 1\n",
        "        1\n",
        "'''\n",
        "print()"
      ]
    },
    {
      "cell_type": "code",
      "execution_count": 44,
      "id": "57df987b",
      "metadata": {},
      "outputs": [
        {
          "name": "stdout",
          "output_type": "stream",
          "text": [
            "5 4 3 2 1 \n",
            "  4 3 2 1 \n",
            "    3 2 1 \n",
            "      2 1 \n",
            "        1 \n"
          ]
        }
      ],
      "source": [
        "def print_pattern(n):\n",
        "    for i in range(n, 0, -1):\n",
        "        print(\"  \" * (n - i), end=\"\")\n",
        "\n",
        "        for j in range(i, 0, -1):\n",
        "            print(j, end=\" \")\n",
        "        print() \n",
        "\n",
        "print_pattern(5)\n"
      ]
    },
    {
      "cell_type": "markdown",
      "id": "279b94c8",
      "metadata": {
        "id": "279b94c8"
      },
      "source": [
        "#### 10. Write a program to print the following pattern:"
      ]
    },
    {
      "cell_type": "code",
      "execution_count": null,
      "id": "af2c05e5",
      "metadata": {
        "colab": {
          "base_uri": "https://localhost:8080/"
        },
        "id": "af2c05e5",
        "outputId": "a05270a6-9f54-461e-a195-d46c556e048d"
      },
      "outputs": [
        {
          "name": "stdout",
          "output_type": "stream",
          "text": [
            "\n"
          ]
        }
      ],
      "source": [
        "'''\n",
        "5 4 3 2 1\n",
        "4 3 2 1\n",
        "3 2 1\n",
        "2 1\n",
        "1\n",
        "'''\n",
        "print()"
      ]
    },
    {
      "cell_type": "code",
      "execution_count": 46,
      "id": "a6502c4f",
      "metadata": {
        "id": "a6502c4f"
      },
      "outputs": [
        {
          "name": "stdout",
          "output_type": "stream",
          "text": [
            "5 4 3 2 1 \n",
            "4 3 2 1 \n",
            "3 2 1 \n",
            "2 1 \n",
            "1 \n"
          ]
        }
      ],
      "source": [
        "def print_pattern(n):\n",
        "    for i in range(n, 0, -1):\n",
        "        for j in range(i, 0, -1):\n",
        "            print(j, end=\" \")\n",
        "        print()  \n",
        "        \n",
        "\n",
        "print_pattern(5)\n"
      ]
    }
  ],
  "metadata": {
    "colab": {
      "provenance": []
    },
    "kernelspec": {
      "display_name": "Python 3",
      "language": "python",
      "name": "python3"
    },
    "language_info": {
      "codemirror_mode": {
        "name": "ipython",
        "version": 3
      },
      "file_extension": ".py",
      "mimetype": "text/x-python",
      "name": "python",
      "nbconvert_exporter": "python",
      "pygments_lexer": "ipython3",
      "version": "3.11.9"
    }
  },
  "nbformat": 4,
  "nbformat_minor": 5
}
