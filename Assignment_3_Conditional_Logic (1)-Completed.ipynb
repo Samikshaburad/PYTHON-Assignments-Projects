{
  "cells": [
    {
      "cell_type": "markdown",
      "id": "c6ec5c42",
      "metadata": {
        "id": "c6ec5c42"
      },
      "source": [
        "# Assessment - 3 Gradable\n",
        "\n",
        "- Each question carries 3 or 4 marks\n",
        "- Marks will be assigned in terms of:\n",
        "\n",
        "    **1. Expected output**\n",
        "\n",
        "    **2. Quality and Explainability of code**\n",
        "\n",
        "    ***Go back through the script and type a comment above each line explaining in English what it does.***\n",
        "\n",
        "    **3. Copied code, if found, will result in 0 marks for that question. To avoid this make as much comments in the code to explain the approach**"
      ]
    },
    {
      "cell_type": "markdown",
      "id": "8698053e",
      "metadata": {
        "id": "8698053e"
      },
      "source": [
        "### 1.\n",
        "\n",
        "Go through the string below and if the length of a word is even print \"even!\"\n",
        "\n",
        "string = 'I know how to print every word in this sentence that has an even number of letters'"
      ]
    },
    {
      "cell_type": "code",
      "execution_count": null,
      "id": "4dec28a9",
      "metadata": {
        "id": "4dec28a9"
      },
      "outputs": [],
      "source": [
        "string = 'I know how to print every word in this sentence that has an even number of letters'\n",
        "string = string.split()\n",
        "#print(len(string))\n",
        "\n",
        "if len(string) % 2 ==0:\n",
        "    print(\"Even\")"
      ]
    },
    {
      "cell_type": "markdown",
      "id": "8569bc4e",
      "metadata": {
        "id": "8569bc4e"
      },
      "source": [
        "### 2.\n",
        "\n",
        "Create a function ``lets_find_88`` Given a list of ints, return True if the array contains a 8 next to a 8 somewhere.\n",
        "- lets_find_88([1, 8, 8]) → True\n",
        "- lets_find_88([1, 8, 1, 8]) → False\n",
        "- lets_find_88([8, 1, 8]) → False"
      ]
    },
    {
      "cell_type": "code",
      "execution_count": 3,
      "id": "9ccfca15",
      "metadata": {
        "id": "9ccfca15"
      },
      "outputs": [
        {
          "name": "stdout",
          "output_type": "stream",
          "text": [
            "[3, 8, 8, 9]\n"
          ]
        },
        {
          "data": {
            "text/plain": [
              "True"
            ]
          },
          "execution_count": 3,
          "metadata": {},
          "output_type": "execute_result"
        }
      ],
      "source": [
        "n=list(map(int, input(\"Enter Numbers\").split()))\n",
        "print(n)\n",
        "\n",
        "def lets_find_88(num):\n",
        "    for i in range (len(num)-1) :\n",
        "        if n[i] == 8 and n[i+1] ==8:\n",
        "            return True\n",
        "    return False \n",
        "\n",
        "lets_find_88(n)"
      ]
    },
    {
      "cell_type": "markdown",
      "id": "40759409",
      "metadata": {
        "id": "40759409"
      },
      "source": [
        "### 3.\n",
        "\n",
        " Calculate and display the sum of all the numbers divisible by 7 between 18 and 534.\n",
        "\n",
        " Hint: One way to do this is to loop over a 'range' using 'for' loop and use an 'if' statement inside it."
      ]
    },
    {
      "cell_type": "code",
      "execution_count": 9,
      "id": "f7409469",
      "metadata": {
        "id": "f7409469"
      },
      "outputs": [
        {
          "name": "stdout",
          "output_type": "stream",
          "text": [
            "Sum of All Numbers Divisible by 7 Between 18 and 534 :  20461\n"
          ]
        }
      ],
      "source": [
        "s=0\n",
        "\n",
        "for i in range (18, 535):\n",
        "    if i % 7 == 0:\n",
        "        s +=i\n",
        "\n",
        "print(\"Sum of All Numbers Divisible by 7 Between 18 and 534 : \", s)"
      ]
    },
    {
      "cell_type": "markdown",
      "id": "0dd3847a",
      "metadata": {
        "id": "0dd3847a"
      },
      "source": [
        "### 4.\n",
        "\n",
        "Create a list containing the following 3 elements:\n",
        "\n",
        "- Subject person had taken\n",
        "- Marks Achieved\n",
        "- a boolean value showing previous programming experience\n",
        "\n",
        "and Complete the following 'print' and 'if' statements by accessing the appropriate elements from my_list."
      ]
    },
    {
      "cell_type": "code",
      "execution_count": 16,
      "id": "5c87efcb",
      "metadata": {
        "id": "5c87efcb"
      },
      "outputs": [
        {
          "name": "stdout",
          "output_type": "stream",
          "text": [
            "Subject Taken : Python\n",
            "Marks Achieved : 90\n",
            "The person has previous programming experience.\n"
          ]
        }
      ],
      "source": [
        "l1 = [\"Python\", 90, True]\n",
        "\n",
        "print(\"Subject Taken :\", l1[0])\n",
        "print(\"Marks Achieved :\", l1[1])\n",
        "\n",
        "if l1[2] :\n",
        "    print(\"The person has previous programming experience.\")\n",
        "else :\n",
        "    print(\"The person does not have previous programming experience.\")"
      ]
    },
    {
      "cell_type": "markdown",
      "id": "a54510f0",
      "metadata": {
        "id": "a54510f0"
      },
      "source": [
        "### 5.\n",
        "\n",
        "Write a function to return True if the first and last number of a given list is same. If numbers are different then return False.\n",
        "\n",
        "- [11, 13, 17, 19, 11] --> True\n",
        "- [24, 36, 12, 31, 42] --> False"
      ]
    },
    {
      "cell_type": "code",
      "execution_count": 19,
      "id": "5d53ba1f",
      "metadata": {
        "id": "5d53ba1f"
      },
      "outputs": [
        {
          "data": {
            "text/plain": [
              "True"
            ]
          },
          "execution_count": 19,
          "metadata": {},
          "output_type": "execute_result"
        }
      ],
      "source": [
        "a = list(map(int, input(\"enter list \").split()))\n",
        "\n",
        "def first_last_same(num):\n",
        "    if a[0] == a[-1] :\n",
        "        return True\n",
        "    else :\n",
        "        return False \n",
        "\n",
        "\n",
        "first_last_same(a)\n"
      ]
    }
  ],
  "metadata": {
    "colab": {
      "provenance": []
    },
    "kernelspec": {
      "display_name": "Python 3",
      "language": "python",
      "name": "python3"
    },
    "language_info": {
      "codemirror_mode": {
        "name": "ipython",
        "version": 3
      },
      "file_extension": ".py",
      "mimetype": "text/x-python",
      "name": "python",
      "nbconvert_exporter": "python",
      "pygments_lexer": "ipython3",
      "version": "3.11.9"
    }
  },
  "nbformat": 4,
  "nbformat_minor": 5
}
