{
 "cells": [
  {
   "cell_type": "markdown",
   "id": "4f1596de",
   "metadata": {
    "id": "4f1596de"
   },
   "source": [
    "# Functions\n",
    "- Write solution of each question in the cell given below the corresponsing question.\n",
    "- Function taking input refers to input as a parameter / argument being passed."
   ]
  },
  {
   "cell_type": "markdown",
   "id": "6f0d9ac3",
   "metadata": {
    "id": "6f0d9ac3"
   },
   "source": [
    "#### 1. Create a function that takes a list of numbers as input and returns the median."
   ]
  },
  {
   "cell_type": "code",
   "execution_count": 12,
   "id": "0a090145",
   "metadata": {
    "id": "0a090145"
   },
   "outputs": [],
   "source": [
    "import statistics"
   ]
  },
  {
   "cell_type": "code",
   "execution_count": 10,
   "id": "zsPDITuiIhY7",
   "metadata": {
    "id": "zsPDITuiIhY7"
   },
   "outputs": [
    {
     "name": "stdout",
     "output_type": "stream",
     "text": [
      "Median : 7\n"
     ]
    }
   ],
   "source": [
    "def find_median(number):\n",
    "    return statistics.median(number)\n",
    "\n",
    "\n",
    "num1 = [2, 7, 5, 8, 9]  # This Automatially Handles Sorting(ASC)\n",
    "print(\"Median :\", find_median(num1))"
   ]
  },
  {
   "cell_type": "markdown",
   "id": "18a107c4",
   "metadata": {
    "id": "18a107c4"
   },
   "source": [
    "#### 2. Create a function that takes a list of numbers as input and returns the mean."
   ]
  },
  {
   "cell_type": "code",
   "execution_count": 11,
   "id": "Vy8v3p_hIgsc",
   "metadata": {
    "id": "Vy8v3p_hIgsc"
   },
   "outputs": [
    {
     "name": "stdout",
     "output_type": "stream",
     "text": [
      "[]\n"
     ]
    },
    {
     "ename": "StatisticsError",
     "evalue": "mean requires at least one data point",
     "output_type": "error",
     "traceback": [
      "\u001b[31m---------------------------------------------------------------------------\u001b[39m",
      "\u001b[31mStatisticsError\u001b[39m                           Traceback (most recent call last)",
      "\u001b[36mCell\u001b[39m\u001b[36m \u001b[39m\u001b[32mIn[11]\u001b[39m\u001b[32m, line 7\u001b[39m\n\u001b[32m      4\u001b[39m \u001b[38;5;28;01mdef\u001b[39;00m\u001b[38;5;250m \u001b[39m\u001b[34mfind_mean\u001b[39m(numbers) : \n\u001b[32m      5\u001b[39m     \u001b[38;5;28;01mreturn\u001b[39;00m statistics.mean(numbers)\n\u001b[32m----> \u001b[39m\u001b[32m7\u001b[39m \u001b[43mfind_mean\u001b[49m\u001b[43m(\u001b[49m\u001b[43ml1\u001b[49m\u001b[43m)\u001b[49m\n",
      "\u001b[36mCell\u001b[39m\u001b[36m \u001b[39m\u001b[32mIn[11]\u001b[39m\u001b[32m, line 5\u001b[39m, in \u001b[36mfind_mean\u001b[39m\u001b[34m(numbers)\u001b[39m\n\u001b[32m      4\u001b[39m \u001b[38;5;28;01mdef\u001b[39;00m\u001b[38;5;250m \u001b[39m\u001b[34mfind_mean\u001b[39m(numbers) : \n\u001b[32m----> \u001b[39m\u001b[32m5\u001b[39m     \u001b[38;5;28;01mreturn\u001b[39;00m \u001b[43mstatistics\u001b[49m\u001b[43m.\u001b[49m\u001b[43mmean\u001b[49m\u001b[43m(\u001b[49m\u001b[43mnumbers\u001b[49m\u001b[43m)\u001b[49m\n",
      "\u001b[36mFile \u001b[39m\u001b[32mC:\\Program Files\\WindowsApps\\PythonSoftwareFoundation.Python.3.11_3.11.2544.0_x64__qbz5n2kfra8p0\\Lib\\statistics.py:432\u001b[39m, in \u001b[36mmean\u001b[39m\u001b[34m(data)\u001b[39m\n\u001b[32m    430\u001b[39m T, total, n = _sum(data)\n\u001b[32m    431\u001b[39m \u001b[38;5;28;01mif\u001b[39;00m n < \u001b[32m1\u001b[39m:\n\u001b[32m--> \u001b[39m\u001b[32m432\u001b[39m     \u001b[38;5;28;01mraise\u001b[39;00m StatisticsError(\u001b[33m'\u001b[39m\u001b[33mmean requires at least one data point\u001b[39m\u001b[33m'\u001b[39m)\n\u001b[32m    433\u001b[39m \u001b[38;5;28;01mreturn\u001b[39;00m _convert(total / n, T)\n",
      "\u001b[31mStatisticsError\u001b[39m: mean requires at least one data point"
     ]
    }
   ],
   "source": [
    "l1 = list(map(int, input(\"Enter Number\").split()))\n",
    "print(l1)\n",
    "\n",
    "def find_mean(numbers) : \n",
    "    return statistics.mean(numbers)\n",
    "\n",
    "find_mean(l1)"
   ]
  },
  {
   "cell_type": "code",
   "execution_count": null,
   "id": "9533b14a",
   "metadata": {
    "id": "9533b14a"
   },
   "outputs": [],
   "source": []
  },
  {
   "cell_type": "markdown",
   "id": "34df49cf",
   "metadata": {
    "id": "34df49cf"
   },
   "source": [
    "#### 3. Create a function that takes a list of numbers as input and returns the standard deviation."
   ]
  },
  {
   "cell_type": "code",
   "execution_count": null,
   "id": "5a089785",
   "metadata": {
    "id": "5a089785"
   },
   "outputs": [
    {
     "name": "stdout",
     "output_type": "stream",
     "text": [
      "[2, 5, 6, 8, 9, 4]\n"
     ]
    },
    {
     "data": {
      "text/plain": [
       "2.581988897471611"
      ]
     },
     "execution_count": 7,
     "metadata": {},
     "output_type": "execute_result"
    }
   ],
   "source": [
    "l2 = list(map(int, input(\"Enter Number\").split()))\n",
    "print(l2)\n",
    "\n",
    "def find_stddev(numbers) : \n",
    "    return statistics.stdev(numbers)\n",
    "\n",
    "find_stddev(l2)"
   ]
  },
  {
   "cell_type": "code",
   "execution_count": null,
   "id": "7QrYx5jiLON6",
   "metadata": {
    "id": "7QrYx5jiLON6"
   },
   "outputs": [],
   "source": []
  },
  {
   "cell_type": "markdown",
   "id": "9cc39352",
   "metadata": {
    "id": "9cc39352"
   },
   "source": [
    "#### 4. Create a function that takes a number as input and return True if the number is prime , False if not."
   ]
  },
  {
   "cell_type": "code",
   "execution_count": null,
   "id": "94b3ee07",
   "metadata": {},
   "outputs": [
    {
     "name": "stdout",
     "output_type": "stream",
     "text": [
      "4\n"
     ]
    },
    {
     "data": {
      "text/plain": [
       "False"
      ]
     },
     "execution_count": 20,
     "metadata": {},
     "output_type": "execute_result"
    }
   ],
   "source": [
    "primenum = int(input(\"Enter Number\"))\n",
    "print(primenum)\n",
    "\n",
    "def Prime_Numbers(n):\n",
    "    if n < 2:\n",
    "        return False\n",
    "    for i in range(2, int(n ** 0.5) + 1):\n",
    "        if n % i == 0:\n",
    "            return False\n",
    "    return True\n",
    "\n",
    "\n",
    "Prime_Numbers(primenum)"
   ]
  },
  {
   "cell_type": "markdown",
   "id": "4029f3a8",
   "metadata": {
    "id": "4029f3a8"
   },
   "source": [
    "#### 5. Create a function that takes a list of numbers as input and returns the variance."
   ]
  },
  {
   "cell_type": "code",
   "execution_count": null,
   "id": "83d19248",
   "metadata": {
    "id": "83d19248"
   },
   "outputs": [
    {
     "name": "stdout",
     "output_type": "stream",
     "text": [
      "[3, 6, 7, 8, 9, 5]\n"
     ]
    },
    {
     "data": {
      "text/plain": [
       "4.666666666666667"
      ]
     },
     "execution_count": 21,
     "metadata": {},
     "output_type": "execute_result"
    }
   ],
   "source": [
    "l3 = list(map(int, input(\"Enter Number\").split()))\n",
    "print(l3)\n",
    "\n",
    "def find_variance(numbers) : \n",
    "    return statistics.variance(numbers)\n",
    "\n",
    "find_variance(l3)"
   ]
  },
  {
   "cell_type": "markdown",
   "id": "7acad1bf",
   "metadata": {
    "id": "7acad1bf"
   },
   "source": [
    "#### 6. Create a function that takes a number as input and returns the factorial."
   ]
  },
  {
   "cell_type": "code",
   "execution_count": null,
   "id": "f7c0877a",
   "metadata": {
    "id": "f7c0877a"
   },
   "outputs": [
    {
     "name": "stdout",
     "output_type": "stream",
     "text": [
      "2\n"
     ]
    },
    {
     "data": {
      "text/plain": [
       "2"
      ]
     },
     "execution_count": 27,
     "metadata": {},
     "output_type": "execute_result"
    }
   ],
   "source": [
    "l4 = int(input(\"Enter Number\"))\n",
    "print(l4)\n",
    "\n",
    "def factorial(num):\n",
    "    value = 1\n",
    "    for i in range(1, num + 1):\n",
    "        value *=i\n",
    "    return value\n",
    "\n",
    "factorial(l4)"
   ]
  },
  {
   "cell_type": "markdown",
   "id": "b1e46b1f",
   "metadata": {
    "id": "b1e46b1f"
   },
   "source": [
    "#### 7. Create a function that takes two lists of same length as input and returns a list consisting of larger element at each position after comparing the corresponding elements in the given lists."
   ]
  },
  {
   "cell_type": "code",
   "execution_count": null,
   "id": "bc428d22",
   "metadata": {
    "id": "bc428d22"
   },
   "outputs": [
    {
     "name": "stdout",
     "output_type": "stream",
     "text": [
      "[34, 56, 78, 90, 66]\n",
      "[45, 98, 67, 96, 76]\n",
      "Larger Elements from Both Lists : [45, 98, 78, 96, 76]\n"
     ]
    }
   ],
   "source": [
    "list1 = list(map(int, input(\"Enter Number\").split()))\n",
    "print(list1)\n",
    "list2 = list(map(int, input(\"Enter Number\").split()))\n",
    "print(list2)\n",
    "\n",
    "def larger_elements(l1, l2) :\n",
    "    n =[]\n",
    "    for i in range(len(l1)) :\n",
    "        if l1[i] > l2[i] :\n",
    "            n.append(l1[i])\n",
    "        else :\n",
    "            n.append(l2[i])\n",
    "    print(\"Larger Elements from Both Lists :\", n)\n",
    "\n",
    "\n",
    "larger_elements(list1, list2)\n"
   ]
  },
  {
   "cell_type": "markdown",
   "id": "f397889f",
   "metadata": {
    "id": "f397889f"
   },
   "source": [
    "#### 8. Create a function that takes a string and returns a string after joining the words that are having even lengths."
   ]
  },
  {
   "cell_type": "code",
   "execution_count": null,
   "id": "ebf96e1c",
   "metadata": {
    "id": "ebf96e1c"
   },
   "outputs": [
    {
     "name": "stdout",
     "output_type": "stream",
     "text": [
      "to Python Notebook\n"
     ]
    }
   ],
   "source": [
    "def join_even_words(text):\n",
    "    words = text.split()\n",
    "    even_text = [w for w in words if len(w) % 2 == 0]\n",
    "    return \" \".join(even_text)\n",
    "\n",
    "s = \"Hello All Welcome to Python Notebook\"\n",
    "\n",
    "print(join_even_words(s))  \n"
   ]
  },
  {
   "cell_type": "markdown",
   "id": "36c6aae1",
   "metadata": {
    "id": "36c6aae1"
   },
   "source": [
    "#### 9. Create a function that takes a string and a character as input and returns a list after splitting the string based on the given character. By Default split based on whitespace. (Create a function similar to the inbuilt split function without using it)."
   ]
  },
  {
   "cell_type": "code",
   "execution_count": 18,
   "id": "869d7244",
   "metadata": {
    "id": "869d7244"
   },
   "outputs": [
    {
     "data": {
      "text/plain": [
       "['Apple', 'Banana', 'Orange', 'Mango']"
      ]
     },
     "execution_count": 18,
     "metadata": {},
     "output_type": "execute_result"
    }
   ],
   "source": [
    "def split_fun(text, sep = \" \"):\n",
    "    result = []\n",
    "    current = \"\"\n",
    "\n",
    "    for char in text:\n",
    "        if char == sep :\n",
    "            result.append(current)\n",
    "            current = \"\"\n",
    "        else :\n",
    "            current += char\n",
    "    result.append(current)\n",
    "\n",
    "    return result\n",
    "\n",
    "\n",
    "str1 = \"Apple Banana Orange Mango\"\n",
    "\n",
    "split_fun(str1)\n"
   ]
  },
  {
   "cell_type": "code",
   "execution_count": 19,
   "id": "77f1781d",
   "metadata": {},
   "outputs": [
    {
     "data": {
      "text/plain": [
       "['Apple', 'Banana', 'Orange', 'Mango']"
      ]
     },
     "execution_count": 19,
     "metadata": {},
     "output_type": "execute_result"
    }
   ],
   "source": [
    "str1.split()"
   ]
  },
  {
   "cell_type": "markdown",
   "id": "f12cc8c9",
   "metadata": {
    "id": "f12cc8c9"
   },
   "source": [
    "#### 10. Create a function which takes a txt filename as input and returns the number of words in that file."
   ]
  },
  {
   "cell_type": "code",
   "execution_count": null,
   "id": "46492494",
   "metadata": {
    "id": "46492494"
   },
   "outputs": [
    {
     "name": "stdout",
     "output_type": "stream",
     "text": [
      "Number of words: 8\n"
     ]
    }
   ],
   "source": [
    "def count_words(filename):\n",
    "    with open(filename, 'r') as file:\n",
    "        content = file.read()\n",
    "        words = content.split()\n",
    "        return len(words)\n",
    "\n",
    "filename = r\"C:\\Users\\user\\Downloads\\ASSIGNMENTS FILES\\Sample_File.txt\"\n",
    "print(\"Number of words:\", count_words(filename))\n"
   ]
  },
  {
   "cell_type": "markdown",
   "id": "b2666c95",
   "metadata": {
    "id": "b2666c95"
   },
   "source": [
    "#### 11. Create a function which takes a txt filename as input and returns the number of line in the file."
   ]
  },
  {
   "cell_type": "code",
   "execution_count": null,
   "id": "5ff27d42",
   "metadata": {
    "id": "5ff27d42"
   },
   "outputs": [
    {
     "name": "stdout",
     "output_type": "stream",
     "text": [
      "Number of lines: 6\n"
     ]
    }
   ],
   "source": [
    "def count_lines(filename):\n",
    "    with open(filename, 'r') as file:\n",
    "        lines = file.readlines()\n",
    "        return len(lines)\n",
    "\n",
    "filename = r\"C:\\Users\\user\\Downloads\\ASSIGNMENTS FILES\\git config --global.txt\"\n",
    "print(\"Number of lines:\", count_lines(filename))\n"
   ]
  },
  {
   "cell_type": "markdown",
   "id": "6722fb75",
   "metadata": {
    "id": "6722fb75"
   },
   "source": [
    "#### 12. Create a function that takes two txt filenames and returns a file after merging the cintents of two given files. (Print the merged content and then return the filename, content of original files should be unchanged)."
   ]
  },
  {
   "cell_type": "code",
   "execution_count": 26,
   "id": "86a4b436",
   "metadata": {
    "id": "86a4b436"
   },
   "outputs": [
    {
     "name": "stdout",
     "output_type": "stream",
     "text": [
      "Merged content:\n",
      "\n",
      "Hello This is a Test File For Assignment.\n",
      "\n",
      "git config --global user.name \"Your Name\"\n",
      "git config --global user.email \"your_email@example.com\"\n",
      "git config --list  -------on vs code -> terminal\n",
      "git add .\n",
      "git commit -m \"countplot\"\n",
      "git push -u origin main\n",
      "Merged file created: merged.txt\n"
     ]
    }
   ],
   "source": [
    "def merge_files(file1, file2, output_file=\"merged.txt\"):\n",
    "    with open(file1, 'r') as f1:          \n",
    "        content1 = f1.read()\n",
    "\n",
    "    with open(file2, 'r') as f2:\n",
    "        content2 = f2.read()\n",
    "\n",
    "    merged_content = content1 + \"\\n\" + content2\n",
    "\n",
    "    with open(output_file, 'w') as out:\n",
    "        out.write(merged_content)\n",
    "\n",
    "    print(\"Merged content:\\n\")\n",
    "    print(merged_content)\n",
    "    \n",
    "    return output_file\n",
    "\n",
    "new_file = merge_files(r\"C:\\Users\\user\\Downloads\\ASSIGNMENTS FILES\\Sample_File.txt\", r\"C:\\Users\\user\\Downloads\\ASSIGNMENTS FILES\\git config --global.txt\")\n",
    "print(\"Merged file created:\", new_file)\n"
   ]
  },
  {
   "cell_type": "markdown",
   "id": "faf26668",
   "metadata": {
    "id": "faf26668"
   },
   "source": [
    "#### 13. Write a program that takes a string as input and returns a list of all words having even length in that string (Using Map/Filter and Lambda expression)."
   ]
  },
  {
   "cell_type": "code",
   "execution_count": 28,
   "id": "955cd692",
   "metadata": {
    "id": "955cd692"
   },
   "outputs": [
    {
     "name": "stdout",
     "output_type": "stream",
     "text": [
      "['This', 'is', 'simple', 'test']\n"
     ]
    }
   ],
   "source": [
    "def even_length_words(text):\n",
    "    words = text.split()\n",
    "    return list(filter(lambda w: len(w) % 2 == 0, words))\n",
    "\n",
    "\n",
    "s = \"This is a simple test strings\"\n",
    "print(even_length_words(s))\n"
   ]
  },
  {
   "cell_type": "code",
   "execution_count": null,
   "id": "A1z_AdWcyKJi",
   "metadata": {
    "id": "A1z_AdWcyKJi"
   },
   "outputs": [],
   "source": []
  }
 ],
 "metadata": {
  "colab": {
   "provenance": []
  },
  "kernelspec": {
   "display_name": "Python 3",
   "language": "python",
   "name": "python3"
  },
  "language_info": {
   "codemirror_mode": {
    "name": "ipython",
    "version": 3
   },
   "file_extension": ".py",
   "mimetype": "text/x-python",
   "name": "python",
   "nbconvert_exporter": "python",
   "pygments_lexer": "ipython3",
   "version": "3.11.9"
  }
 },
 "nbformat": 4,
 "nbformat_minor": 5
}
